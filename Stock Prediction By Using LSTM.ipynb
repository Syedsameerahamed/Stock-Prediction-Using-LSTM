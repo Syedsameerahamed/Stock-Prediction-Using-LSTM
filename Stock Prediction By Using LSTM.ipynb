{
 "cells": [
  {
   "cell_type": "code",
   "execution_count": 1,
   "id": "02170167",
   "metadata": {},
   "outputs": [],
   "source": [
    "import yfinance as yf\n",
    "import pandas as pd\n",
    "import os"
   ]
  },
  {
   "cell_type": "code",
   "execution_count": 2,
   "id": "389bdfaa",
   "metadata": {},
   "outputs": [],
   "source": [
    "if os.path.exists(\"sp500.csv\"):\n",
    "    sp500 = pd.read_csv(\"sp500.csv\", index_col=0)\n",
    "else:\n",
    "    sp500 = yf.Ticker(\"^GSPC\")\n",
    "    sp500 = sp500.history (period=\"max\")\n",
    "    sp500.to_csv(\"sp500.csv\")"
   ]
  },
  {
   "cell_type": "code",
   "execution_count": 3,
   "id": "1d29fea8",
   "metadata": {},
   "outputs": [],
   "source": [
    "sp500.index = pd.to_datetime (sp500.index)"
   ]
  },
  {
   "cell_type": "code",
   "execution_count": 4,
   "id": "3ca07518",
   "metadata": {},
   "outputs": [
    {
     "data": {
      "text/html": [
       "<div>\n",
       "<style scoped>\n",
       "    .dataframe tbody tr th:only-of-type {\n",
       "        vertical-align: middle;\n",
       "    }\n",
       "\n",
       "    .dataframe tbody tr th {\n",
       "        vertical-align: top;\n",
       "    }\n",
       "\n",
       "    .dataframe thead th {\n",
       "        text-align: right;\n",
       "    }\n",
       "</style>\n",
       "<table border=\"1\" class=\"dataframe\">\n",
       "  <thead>\n",
       "    <tr style=\"text-align: right;\">\n",
       "      <th></th>\n",
       "      <th>Open</th>\n",
       "      <th>High</th>\n",
       "      <th>Low</th>\n",
       "      <th>Close</th>\n",
       "      <th>Volume</th>\n",
       "      <th>Dividends</th>\n",
       "      <th>Stock Splits</th>\n",
       "    </tr>\n",
       "    <tr>\n",
       "      <th>Date</th>\n",
       "      <th></th>\n",
       "      <th></th>\n",
       "      <th></th>\n",
       "      <th></th>\n",
       "      <th></th>\n",
       "      <th></th>\n",
       "      <th></th>\n",
       "    </tr>\n",
       "  </thead>\n",
       "  <tbody>\n",
       "    <tr>\n",
       "      <th>1927-12-30 00:00:00-05:00</th>\n",
       "      <td>17.660000</td>\n",
       "      <td>17.660000</td>\n",
       "      <td>17.660000</td>\n",
       "      <td>17.660000</td>\n",
       "      <td>0</td>\n",
       "      <td>0.0</td>\n",
       "      <td>0.0</td>\n",
       "    </tr>\n",
       "    <tr>\n",
       "      <th>1928-01-03 00:00:00-05:00</th>\n",
       "      <td>17.760000</td>\n",
       "      <td>17.760000</td>\n",
       "      <td>17.760000</td>\n",
       "      <td>17.760000</td>\n",
       "      <td>0</td>\n",
       "      <td>0.0</td>\n",
       "      <td>0.0</td>\n",
       "    </tr>\n",
       "    <tr>\n",
       "      <th>1928-01-04 00:00:00-05:00</th>\n",
       "      <td>17.719999</td>\n",
       "      <td>17.719999</td>\n",
       "      <td>17.719999</td>\n",
       "      <td>17.719999</td>\n",
       "      <td>0</td>\n",
       "      <td>0.0</td>\n",
       "      <td>0.0</td>\n",
       "    </tr>\n",
       "    <tr>\n",
       "      <th>1928-01-05 00:00:00-05:00</th>\n",
       "      <td>17.549999</td>\n",
       "      <td>17.549999</td>\n",
       "      <td>17.549999</td>\n",
       "      <td>17.549999</td>\n",
       "      <td>0</td>\n",
       "      <td>0.0</td>\n",
       "      <td>0.0</td>\n",
       "    </tr>\n",
       "    <tr>\n",
       "      <th>1928-01-06 00:00:00-05:00</th>\n",
       "      <td>17.660000</td>\n",
       "      <td>17.660000</td>\n",
       "      <td>17.660000</td>\n",
       "      <td>17.660000</td>\n",
       "      <td>0</td>\n",
       "      <td>0.0</td>\n",
       "      <td>0.0</td>\n",
       "    </tr>\n",
       "    <tr>\n",
       "      <th>...</th>\n",
       "      <td>...</td>\n",
       "      <td>...</td>\n",
       "      <td>...</td>\n",
       "      <td>...</td>\n",
       "      <td>...</td>\n",
       "      <td>...</td>\n",
       "      <td>...</td>\n",
       "    </tr>\n",
       "    <tr>\n",
       "      <th>2023-08-04 00:00:00-04:00</th>\n",
       "      <td>4513.959961</td>\n",
       "      <td>4540.339844</td>\n",
       "      <td>4474.549805</td>\n",
       "      <td>4478.029785</td>\n",
       "      <td>4143310000</td>\n",
       "      <td>0.0</td>\n",
       "      <td>0.0</td>\n",
       "    </tr>\n",
       "    <tr>\n",
       "      <th>2023-08-07 00:00:00-04:00</th>\n",
       "      <td>4491.580078</td>\n",
       "      <td>4519.839844</td>\n",
       "      <td>4491.149902</td>\n",
       "      <td>4518.439941</td>\n",
       "      <td>3493920000</td>\n",
       "      <td>0.0</td>\n",
       "      <td>0.0</td>\n",
       "    </tr>\n",
       "    <tr>\n",
       "      <th>2023-08-08 00:00:00-04:00</th>\n",
       "      <td>4498.029785</td>\n",
       "      <td>4503.310059</td>\n",
       "      <td>4464.390137</td>\n",
       "      <td>4499.379883</td>\n",
       "      <td>3884910000</td>\n",
       "      <td>0.0</td>\n",
       "      <td>0.0</td>\n",
       "    </tr>\n",
       "    <tr>\n",
       "      <th>2023-08-09 00:00:00-04:00</th>\n",
       "      <td>4501.569824</td>\n",
       "      <td>4502.439941</td>\n",
       "      <td>4461.330078</td>\n",
       "      <td>4467.709961</td>\n",
       "      <td>3803100000</td>\n",
       "      <td>0.0</td>\n",
       "      <td>0.0</td>\n",
       "    </tr>\n",
       "    <tr>\n",
       "      <th>2023-08-10 00:00:00-04:00</th>\n",
       "      <td>4487.160156</td>\n",
       "      <td>4527.370117</td>\n",
       "      <td>4457.919922</td>\n",
       "      <td>4468.830078</td>\n",
       "      <td>4504370000</td>\n",
       "      <td>0.0</td>\n",
       "      <td>0.0</td>\n",
       "    </tr>\n",
       "  </tbody>\n",
       "</table>\n",
       "<p>24017 rows × 7 columns</p>\n",
       "</div>"
      ],
      "text/plain": [
       "                                  Open         High          Low        Close  \\\n",
       "Date                                                                            \n",
       "1927-12-30 00:00:00-05:00    17.660000    17.660000    17.660000    17.660000   \n",
       "1928-01-03 00:00:00-05:00    17.760000    17.760000    17.760000    17.760000   \n",
       "1928-01-04 00:00:00-05:00    17.719999    17.719999    17.719999    17.719999   \n",
       "1928-01-05 00:00:00-05:00    17.549999    17.549999    17.549999    17.549999   \n",
       "1928-01-06 00:00:00-05:00    17.660000    17.660000    17.660000    17.660000   \n",
       "...                                ...          ...          ...          ...   \n",
       "2023-08-04 00:00:00-04:00  4513.959961  4540.339844  4474.549805  4478.029785   \n",
       "2023-08-07 00:00:00-04:00  4491.580078  4519.839844  4491.149902  4518.439941   \n",
       "2023-08-08 00:00:00-04:00  4498.029785  4503.310059  4464.390137  4499.379883   \n",
       "2023-08-09 00:00:00-04:00  4501.569824  4502.439941  4461.330078  4467.709961   \n",
       "2023-08-10 00:00:00-04:00  4487.160156  4527.370117  4457.919922  4468.830078   \n",
       "\n",
       "                               Volume  Dividends  Stock Splits  \n",
       "Date                                                            \n",
       "1927-12-30 00:00:00-05:00           0        0.0           0.0  \n",
       "1928-01-03 00:00:00-05:00           0        0.0           0.0  \n",
       "1928-01-04 00:00:00-05:00           0        0.0           0.0  \n",
       "1928-01-05 00:00:00-05:00           0        0.0           0.0  \n",
       "1928-01-06 00:00:00-05:00           0        0.0           0.0  \n",
       "...                               ...        ...           ...  \n",
       "2023-08-04 00:00:00-04:00  4143310000        0.0           0.0  \n",
       "2023-08-07 00:00:00-04:00  3493920000        0.0           0.0  \n",
       "2023-08-08 00:00:00-04:00  3884910000        0.0           0.0  \n",
       "2023-08-09 00:00:00-04:00  3803100000        0.0           0.0  \n",
       "2023-08-10 00:00:00-04:00  4504370000        0.0           0.0  \n",
       "\n",
       "[24017 rows x 7 columns]"
      ]
     },
     "execution_count": 4,
     "metadata": {},
     "output_type": "execute_result"
    }
   ],
   "source": [
    "sp500"
   ]
  },
  {
   "cell_type": "code",
   "execution_count": 5,
   "id": "fa20ca1d",
   "metadata": {},
   "outputs": [
    {
     "data": {
      "text/plain": [
       "<Axes: xlabel='Date'>"
      ]
     },
     "execution_count": 5,
     "metadata": {},
     "output_type": "execute_result"
    },
    {
     "data": {
      "image/png": "[encoded data removed]",
      "text/plain": [
       "<Figure size 640x480 with 1 Axes>"
      ]
     },
     "metadata": {},
     "output_type": "display_data"
    }
   ],
   "source": [
    "sp500.plot.line (y=\"Close\", use_index=True)"
   ]
  },
  {
   "cell_type": "code",
   "execution_count": 6,
   "id": "28585563",
   "metadata": {},
   "outputs": [],
   "source": [
    "del sp500[\"Stock Splits\"]"
   ]
  },
  {
   "cell_type": "code",
   "execution_count": 7,
   "id": "ee4260ab",
   "metadata": {},
   "outputs": [],
   "source": [
    "sp500[\"Tomorrow\"] =sp500[\"Close\"].shift(-1)"
   ]
  },
  {
   "cell_type": "code",
   "execution_count": 8,
   "id": "d2ccb0d4",
   "metadata": {},
   "outputs": [],
   "source": [
    "sp500[\"Target\"] = (sp500[\"Tomorrow\"]> sp500[\"Close\"]).astype(int)"
   ]
  },
  {
   "cell_type": "code",
   "execution_count": 9,
   "id": "2114beed",
   "metadata": {},
   "outputs": [],
   "source": [
    "sp500 = sp500.loc[\"1990-01-01\":].copy()"
   ]
  },
  {
   "cell_type": "code",
   "execution_count": 10,
   "id": "303b2e85",
   "metadata": {},
   "outputs": [
    {
     "data": {
      "text/html": [
       "<style>#sk-container-id-1 {color: black;}#sk-container-id-1 pre{padding: 0;}#sk-container-id-1 div.sk-toggleable {background-color: white;}#sk-container-id-1 label.sk-toggleable__label {cursor: pointer;display: block;width: 100%;margin-bottom: 0;padding: 0.3em;box-sizing: border-box;text-align: center;}#sk-container-id-1 label.sk-toggleable__label-arrow:before {content: \"▸\";float: left;margin-right: 0.25em;color: #696969;}#sk-container-id-1 label.sk-toggleable__label-arrow:hover:before {color: black;}#sk-container-id-1 div.sk-estimator:hover label.sk-toggleable__label-arrow:before {color: black;}#sk-container-id-1 div.sk-toggleable__content {max-height: 0;max-width: 0;overflow: hidden;text-align: left;background-color: #f0f8ff;}#sk-container-id-1 div.sk-toggleable__content pre {margin: 0.2em;color: black;border-radius: 0.25em;background-color: #f0f8ff;}#sk-container-id-1 input.sk-toggleable__control:checked~div.sk-toggleable__content {max-height: 200px;max-width: 100%;overflow: auto;}#sk-container-id-1 input.sk-toggleable__control:checked~label.sk-toggleable__label-arrow:before {content: \"▾\";}#sk-container-id-1 div.sk-estimator input.sk-toggleable__control:checked~label.sk-toggleable__label {background-color: #d4ebff;}#sk-container-id-1 div.sk-label input.sk-toggleable__control:checked~label.sk-toggleable__label {background-color: #d4ebff;}#sk-container-id-1 input.sk-hidden--visually {border: 0;clip: rect(1px 1px 1px 1px);clip: rect(1px, 1px, 1px, 1px);height: 1px;margin: -1px;overflow: hidden;padding: 0;position: absolute;width: 1px;}#sk-container-id-1 div.sk-estimator {font-family: monospace;background-color: #f0f8ff;border: 1px dotted black;border-radius: 0.25em;box-sizing: border-box;margin-bottom: 0.5em;}#sk-container-id-1 div.sk-estimator:hover {background-color: #d4ebff;}#sk-container-id-1 div.sk-parallel-item::after {content: \"\";width: 100%;border-bottom: 1px solid gray;flex-grow: 1;}#sk-container-id-1 div.sk-label:hover label.sk-toggleable__label {background-color: #d4ebff;}#sk-container-id-1 div.sk-serial::before {content: \"\";position: absolute;border-left: 1px solid gray;box-sizing: border-box;top: 0;bottom: 0;left: 50%;z-index: 0;}#sk-container-id-1 div.sk-serial {display: flex;flex-direction: column;align-items: center;background-color: white;padding-right: 0.2em;padding-left: 0.2em;position: relative;}#sk-container-id-1 div.sk-item {position: relative;z-index: 1;}#sk-container-id-1 div.sk-parallel {display: flex;align-items: stretch;justify-content: center;background-color: white;position: relative;}#sk-container-id-1 div.sk-item::before, #sk-container-id-1 div.sk-parallel-item::before {content: \"\";position: absolute;border-left: 1px solid gray;box-sizing: border-box;top: 0;bottom: 0;left: 50%;z-index: -1;}#sk-container-id-1 div.sk-parallel-item {display: flex;flex-direction: column;z-index: 1;position: relative;background-color: white;}#sk-container-id-1 div.sk-parallel-item:first-child::after {align-self: flex-end;width: 50%;}#sk-container-id-1 div.sk-parallel-item:last-child::after {align-self: flex-start;width: 50%;}#sk-container-id-1 div.sk-parallel-item:only-child::after {width: 0;}#sk-container-id-1 div.sk-dashed-wrapped {border: 1px dashed gray;margin: 0 0.4em 0.5em 0.4em;box-sizing: border-box;padding-bottom: 0.4em;background-color: white;}#sk-container-id-1 div.sk-label label {font-family: monospace;font-weight: bold;display: inline-block;line-height: 1.2em;}#sk-container-id-1 div.sk-label-container {text-align: center;}#sk-container-id-1 div.sk-container {/* jupyter's `normalize.less` sets `[hidden] { display: none; }` but bootstrap.min.css set `[hidden] { display: none !important; }` so we also need the `!important` here to be able to override the default hidden behavior on the sphinx rendered scikit-learn.org. See: https://github.com/scikit-learn/scikit-learn/issues/21755 */display: inline-block !important;position: relative;}#sk-container-id-1 div.sk-text-repr-fallback {display: none;}</style><div id=\"sk-container-id-1\" class=\"sk-top-container\"><div class=\"sk-text-repr-fallback\"><pre>RandomForestClassifier(min_samples_split=100, random_state=1)</pre><b>In a Jupyter environment, please rerun this cell to show the HTML representation or trust the notebook. <br />On GitHub, the HTML representation is unable to render, please try loading this page with nbviewer.org.</b></div><div class=\"sk-container\" hidden><div class=\"sk-item\"><div class=\"sk-estimator sk-toggleable\"><input class=\"sk-toggleable__control sk-hidden--visually\" id=\"sk-estimator-id-1\" type=\"checkbox\" checked><label for=\"sk-estimator-id-1\" class=\"sk-toggleable__label sk-toggleable__label-arrow\">RandomForestClassifier</label><div class=\"sk-toggleable__content\"><pre>RandomForestClassifier(min_samples_split=100, random_state=1)</pre></div></div></div></div></div>"
      ],
      "text/plain": [
       "RandomForestClassifier(min_samples_split=100, random_state=1)"
      ]
     },
     "execution_count": 10,
     "metadata": {},
     "output_type": "execute_result"
    }
   ],
   "source": [
    "from sklearn.ensemble import RandomForestClassifier\n",
    "model = RandomForestClassifier(n_estimators=100, min_samples_split=100, random_state=1)\n",
    "train = sp500.iloc[:-100]\n",
    "test = sp500.iloc[-100:]\n",
    "predictors = [\"Close\", \"Volume\", \"Open\", \"High\", \"Low\"]\n",
    "model.fit(train [predictors], train[\"Target\"])"
   ]
  },
  {
   "cell_type": "code",
   "execution_count": 11,
   "id": "b2ef1faa",
   "metadata": {},
   "outputs": [
    {
     "data": {
      "text/plain": [
       "0.5964912280701754"
      ]
     },
     "execution_count": 11,
     "metadata": {},
     "output_type": "execute_result"
    }
   ],
   "source": [
    "from sklearn.metrics import precision_score\n",
    "preds = model.predict(test[predictors])\n",
    "preds = pd.Series (preds, index=test.index)\n",
    "precision_score (test[\"Target\"], preds)"
   ]
  },
  {
   "cell_type": "code",
   "execution_count": 12,
   "id": "3109fb31",
   "metadata": {},
   "outputs": [
    {
     "data": {
      "text/plain": [
       "<Axes: xlabel='Date'>"
      ]
     },
     "execution_count": 12,
     "metadata": {},
     "output_type": "execute_result"
    },
    {
     "data": {
      "image/png": "[encoded data removed]",
      "text/plain": [
       "<Figure size 640x480 with 1 Axes>"
      ]
     },
     "metadata": {},
     "output_type": "display_data"
    }
   ],
   "source": [
    "combined = pd.concat([test[\"Target\"], preds], axis=1)\n",
    "combined.plot()"
   ]
  },
  {
   "cell_type": "code",
   "execution_count": 13,
   "id": "424d23e5",
   "metadata": {},
   "outputs": [],
   "source": [
    "def predict(train, test, predictors, model):\n",
    "    model.fit(train[predictors], train[\"Target\"])\n",
    "    preds = model.predict(test[predictors])\n",
    "    preds = pd.Series(preds, index=test.index, name=\"Predictions\")\n",
    "    combined = pd.concat([test [ \"Target\"], preds], axis=1)\n",
    "    return combined"
   ]
  },
  {
   "cell_type": "code",
   "execution_count": 14,
   "id": "e232478f",
   "metadata": {},
   "outputs": [],
   "source": [
    "def backtest(data, model, predictors, start=2500, step=250):\n",
    "    all_predictions = []\n",
    "\n",
    "    for i in range(start, data.shape[0], step):\n",
    "        train = data.iloc[0:i].copy()\n",
    "        test = data.iloc[i: (i+step)].copy()\n",
    "        predictions = predict(train, test, predictors, model)\n",
    "        all_predictions.append(predictions)\n",
    "\n",
    "    return pd.concat(all_predictions)"
   ]
  },
  {
   "cell_type": "code",
   "execution_count": 17,
   "id": "d7622ba3",
   "metadata": {},
   "outputs": [],
   "source": [
    "predictions = backtest (sp500, model, predictors)"
   ]
  },
  {
   "cell_type": "code",
   "execution_count": 18,
   "id": "e70b617f",
   "metadata": {},
   "outputs": [
    {
     "data": {
      "text/plain": [
       "0.5295974743488555"
      ]
     },
     "execution_count": 18,
     "metadata": {},
     "output_type": "execute_result"
    }
   ],
   "source": [
    "precision_score (predictions[\"Target\"], predictions[\"Predictions\"])"
   ]
  },
  {
   "cell_type": "code",
   "execution_count": 20,
   "id": "91be245c",
   "metadata": {},
   "outputs": [
    {
     "data": {
      "text/plain": [
       "1    0.533937\n",
       "0    0.466063\n",
       "Name: Target, dtype: float64"
      ]
     },
     "execution_count": 20,
     "metadata": {},
     "output_type": "execute_result"
    }
   ],
   "source": [
    "predictions[\"Target\"].value_counts()/ predictions.shape[0]"
   ]
  },
  {
   "cell_type": "code",
   "execution_count": 21,
   "id": "2ba6342b",
   "metadata": {},
   "outputs": [],
   "source": [
    "horizons = [2,5,60,250,1000]\n",
    "new_predictors = []\n",
    "\n",
    "for horizon in horizons:\n",
    "  rolling_averages = sp500.rolling(horizon).mean()\n",
    "\n",
    "  ratio_column= f\"Close_Ratio {horizon}\"\n",
    "  sp500[ratio_column] = sp500[\"Close\"] / rolling_averages[\"Close\"]\n",
    "\n",
    "  trend_column = f\"Trend_{horizon}\"\n",
    "  sp500[trend_column] = sp500.shift(1).rolling (horizon). sum()[\"Target\"]\n",
    "  \n",
    "  new_predictors+= [ratio_column, trend_column]"
   ]
  },
  {
   "cell_type": "code",
   "execution_count": 22,
   "id": "c0b6c93b",
   "metadata": {},
   "outputs": [],
   "source": [
    "sp500 = sp500.dropna(subset=sp500.columns[sp500.columns != \"Tomorrow\"])"
   ]
  },
  {
   "cell_type": "code",
   "execution_count": 23,
   "id": "1b12bed0",
   "metadata": {},
   "outputs": [
    {
     "data": {
      "text/html": [
       "<div>\n",
       "<style scoped>\n",
       "    .dataframe tbody tr th:only-of-type {\n",
       "        vertical-align: middle;\n",
       "    }\n",
       "\n",
       "    .dataframe tbody tr th {\n",
       "        vertical-align: top;\n",
       "    }\n",
       "\n",
       "    .dataframe thead th {\n",
       "        text-align: right;\n",
       "    }\n",
       "</style>\n",
       "<table border=\"1\" class=\"dataframe\">\n",
       "  <thead>\n",
       "    <tr style=\"text-align: right;\">\n",
       "      <th></th>\n",
       "      <th>Open</th>\n",
       "      <th>High</th>\n",
       "      <th>Low</th>\n",
       "      <th>Close</th>\n",
       "      <th>Volume</th>\n",
       "      <th>Dividends</th>\n",
       "      <th>Tomorrow</th>\n",
       "      <th>Target</th>\n",
       "      <th>Close_Ratio 2</th>\n",
       "      <th>Trend_2</th>\n",
       "      <th>Close_Ratio 5</th>\n",
       "      <th>Trend_5</th>\n",
       "      <th>Close_Ratio 60</th>\n",
       "      <th>Trend_60</th>\n",
       "      <th>Close_Ratio 250</th>\n",
       "      <th>Trend_250</th>\n",
       "      <th>Close_Ratio 1000</th>\n",
       "      <th>Trend_1000</th>\n",
       "    </tr>\n",
       "    <tr>\n",
       "      <th>Date</th>\n",
       "      <th></th>\n",
       "      <th></th>\n",
       "      <th></th>\n",
       "      <th></th>\n",
       "      <th></th>\n",
       "      <th></th>\n",
       "      <th></th>\n",
       "      <th></th>\n",
       "      <th></th>\n",
       "      <th></th>\n",
       "      <th></th>\n",
       "      <th></th>\n",
       "      <th></th>\n",
       "      <th></th>\n",
       "      <th></th>\n",
       "      <th></th>\n",
       "      <th></th>\n",
       "      <th></th>\n",
       "    </tr>\n",
       "  </thead>\n",
       "  <tbody>\n",
       "    <tr>\n",
       "      <th>1993-12-14 00:00:00-05:00</th>\n",
       "      <td>465.730011</td>\n",
       "      <td>466.119995</td>\n",
       "      <td>462.459991</td>\n",
       "      <td>463.059998</td>\n",
       "      <td>275050000</td>\n",
       "      <td>0.0</td>\n",
       "      <td>461.839996</td>\n",
       "      <td>0</td>\n",
       "      <td>0.997157</td>\n",
       "      <td>1.0</td>\n",
       "      <td>0.996617</td>\n",
       "      <td>1.0</td>\n",
       "      <td>1.000283</td>\n",
       "      <td>32.0</td>\n",
       "      <td>1.028047</td>\n",
       "      <td>127.0</td>\n",
       "      <td>1.176082</td>\n",
       "      <td>512.0</td>\n",
       "    </tr>\n",
       "    <tr>\n",
       "      <th>1993-12-15 00:00:00-05:00</th>\n",
       "      <td>463.059998</td>\n",
       "      <td>463.690002</td>\n",
       "      <td>461.839996</td>\n",
       "      <td>461.839996</td>\n",
       "      <td>331770000</td>\n",
       "      <td>0.0</td>\n",
       "      <td>463.339996</td>\n",
       "      <td>1</td>\n",
       "      <td>0.998681</td>\n",
       "      <td>0.0</td>\n",
       "      <td>0.995899</td>\n",
       "      <td>1.0</td>\n",
       "      <td>0.997329</td>\n",
       "      <td>32.0</td>\n",
       "      <td>1.025151</td>\n",
       "      <td>126.0</td>\n",
       "      <td>1.172676</td>\n",
       "      <td>512.0</td>\n",
       "    </tr>\n",
       "    <tr>\n",
       "      <th>1993-12-16 00:00:00-05:00</th>\n",
       "      <td>461.859985</td>\n",
       "      <td>463.980011</td>\n",
       "      <td>461.859985</td>\n",
       "      <td>463.339996</td>\n",
       "      <td>284620000</td>\n",
       "      <td>0.0</td>\n",
       "      <td>466.380005</td>\n",
       "      <td>1</td>\n",
       "      <td>1.001621</td>\n",
       "      <td>1.0</td>\n",
       "      <td>0.999495</td>\n",
       "      <td>2.0</td>\n",
       "      <td>1.000311</td>\n",
       "      <td>32.0</td>\n",
       "      <td>1.028274</td>\n",
       "      <td>127.0</td>\n",
       "      <td>1.176163</td>\n",
       "      <td>513.0</td>\n",
       "    </tr>\n",
       "    <tr>\n",
       "      <th>1993-12-17 00:00:00-05:00</th>\n",
       "      <td>463.339996</td>\n",
       "      <td>466.380005</td>\n",
       "      <td>463.339996</td>\n",
       "      <td>466.380005</td>\n",
       "      <td>363750000</td>\n",
       "      <td>0.0</td>\n",
       "      <td>465.850006</td>\n",
       "      <td>0</td>\n",
       "      <td>1.003270</td>\n",
       "      <td>2.0</td>\n",
       "      <td>1.004991</td>\n",
       "      <td>3.0</td>\n",
       "      <td>1.006561</td>\n",
       "      <td>32.0</td>\n",
       "      <td>1.034781</td>\n",
       "      <td>128.0</td>\n",
       "      <td>1.183537</td>\n",
       "      <td>514.0</td>\n",
       "    </tr>\n",
       "    <tr>\n",
       "      <th>1993-12-20 00:00:00-05:00</th>\n",
       "      <td>466.380005</td>\n",
       "      <td>466.899994</td>\n",
       "      <td>465.529999</td>\n",
       "      <td>465.850006</td>\n",
       "      <td>255900000</td>\n",
       "      <td>0.0</td>\n",
       "      <td>465.299988</td>\n",
       "      <td>0</td>\n",
       "      <td>0.999431</td>\n",
       "      <td>1.0</td>\n",
       "      <td>1.003784</td>\n",
       "      <td>2.0</td>\n",
       "      <td>1.005120</td>\n",
       "      <td>32.0</td>\n",
       "      <td>1.033359</td>\n",
       "      <td>128.0</td>\n",
       "      <td>1.181856</td>\n",
       "      <td>513.0</td>\n",
       "    </tr>\n",
       "    <tr>\n",
       "      <th>...</th>\n",
       "      <td>...</td>\n",
       "      <td>...</td>\n",
       "      <td>...</td>\n",
       "      <td>...</td>\n",
       "      <td>...</td>\n",
       "      <td>...</td>\n",
       "      <td>...</td>\n",
       "      <td>...</td>\n",
       "      <td>...</td>\n",
       "      <td>...</td>\n",
       "      <td>...</td>\n",
       "      <td>...</td>\n",
       "      <td>...</td>\n",
       "      <td>...</td>\n",
       "      <td>...</td>\n",
       "      <td>...</td>\n",
       "      <td>...</td>\n",
       "      <td>...</td>\n",
       "    </tr>\n",
       "    <tr>\n",
       "      <th>2023-08-04 00:00:00-04:00</th>\n",
       "      <td>4513.959961</td>\n",
       "      <td>4540.339844</td>\n",
       "      <td>4474.549805</td>\n",
       "      <td>4478.029785</td>\n",
       "      <td>4143310000</td>\n",
       "      <td>0.0</td>\n",
       "      <td>4518.439941</td>\n",
       "      <td>1</td>\n",
       "      <td>0.997343</td>\n",
       "      <td>0.0</td>\n",
       "      <td>0.988135</td>\n",
       "      <td>1.0</td>\n",
       "      <td>1.026023</td>\n",
       "      <td>34.0</td>\n",
       "      <td>1.102385</td>\n",
       "      <td>120.0</td>\n",
       "      <td>1.169678</td>\n",
       "      <td>535.0</td>\n",
       "    </tr>\n",
       "    <tr>\n",
       "      <th>2023-08-07 00:00:00-04:00</th>\n",
       "      <td>4491.580078</td>\n",
       "      <td>4519.839844</td>\n",
       "      <td>4491.149902</td>\n",
       "      <td>4518.439941</td>\n",
       "      <td>3493920000</td>\n",
       "      <td>0.0</td>\n",
       "      <td>4499.379883</td>\n",
       "      <td>0</td>\n",
       "      <td>1.004492</td>\n",
       "      <td>1.0</td>\n",
       "      <td>1.000165</td>\n",
       "      <td>1.0</td>\n",
       "      <td>1.033779</td>\n",
       "      <td>34.0</td>\n",
       "      <td>1.111919</td>\n",
       "      <td>121.0</td>\n",
       "      <td>1.179718</td>\n",
       "      <td>535.0</td>\n",
       "    </tr>\n",
       "    <tr>\n",
       "      <th>2023-08-08 00:00:00-04:00</th>\n",
       "      <td>4498.029785</td>\n",
       "      <td>4503.310059</td>\n",
       "      <td>4464.390137</td>\n",
       "      <td>4499.379883</td>\n",
       "      <td>3884910000</td>\n",
       "      <td>0.0</td>\n",
       "      <td>4467.709961</td>\n",
       "      <td>0</td>\n",
       "      <td>0.997886</td>\n",
       "      <td>1.0</td>\n",
       "      <td>0.999368</td>\n",
       "      <td>1.0</td>\n",
       "      <td>1.027972</td>\n",
       "      <td>34.0</td>\n",
       "      <td>1.106818</td>\n",
       "      <td>121.0</td>\n",
       "      <td>1.174248</td>\n",
       "      <td>534.0</td>\n",
       "    </tr>\n",
       "    <tr>\n",
       "      <th>2023-08-09 00:00:00-04:00</th>\n",
       "      <td>4501.569824</td>\n",
       "      <td>4502.439941</td>\n",
       "      <td>4461.330078</td>\n",
       "      <td>4467.709961</td>\n",
       "      <td>3803100000</td>\n",
       "      <td>0.0</td>\n",
       "      <td>4468.830078</td>\n",
       "      <td>1</td>\n",
       "      <td>0.996468</td>\n",
       "      <td>0.0</td>\n",
       "      <td>0.994351</td>\n",
       "      <td>1.0</td>\n",
       "      <td>1.019403</td>\n",
       "      <td>34.0</td>\n",
       "      <td>1.098749</td>\n",
       "      <td>120.0</td>\n",
       "      <td>1.165513</td>\n",
       "      <td>533.0</td>\n",
       "    </tr>\n",
       "    <tr>\n",
       "      <th>2023-08-10 00:00:00-04:00</th>\n",
       "      <td>4487.160156</td>\n",
       "      <td>4527.370117</td>\n",
       "      <td>4457.919922</td>\n",
       "      <td>4468.830078</td>\n",
       "      <td>4504370000</td>\n",
       "      <td>0.0</td>\n",
       "      <td>NaN</td>\n",
       "      <td>0</td>\n",
       "      <td>1.000125</td>\n",
       "      <td>1.0</td>\n",
       "      <td>0.996066</td>\n",
       "      <td>2.0</td>\n",
       "      <td>1.018371</td>\n",
       "      <td>34.0</td>\n",
       "      <td>1.098742</td>\n",
       "      <td>121.0</td>\n",
       "      <td>1.165328</td>\n",
       "      <td>534.0</td>\n",
       "    </tr>\n",
       "  </tbody>\n",
       "</table>\n",
       "<p>7467 rows × 18 columns</p>\n",
       "</div>"
      ],
      "text/plain": [
       "                                  Open         High          Low        Close  \\\n",
       "Date                                                                            \n",
       "1993-12-14 00:00:00-05:00   465.730011   466.119995   462.459991   463.059998   \n",
       "1993-12-15 00:00:00-05:00   463.059998   463.690002   461.839996   461.839996   \n",
       "1993-12-16 00:00:00-05:00   461.859985   463.980011   461.859985   463.339996   \n",
       "1993-12-17 00:00:00-05:00   463.339996   466.380005   463.339996   466.380005   \n",
       "1993-12-20 00:00:00-05:00   466.380005   466.899994   465.529999   465.850006   \n",
       "...                                ...          ...          ...          ...   \n",
       "2023-08-04 00:00:00-04:00  4513.959961  4540.339844  4474.549805  4478.029785   \n",
       "2023-08-07 00:00:00-04:00  4491.580078  4519.839844  4491.149902  4518.439941   \n",
       "2023-08-08 00:00:00-04:00  4498.029785  4503.310059  4464.390137  4499.379883   \n",
       "2023-08-09 00:00:00-04:00  4501.569824  4502.439941  4461.330078  4467.709961   \n",
       "2023-08-10 00:00:00-04:00  4487.160156  4527.370117  4457.919922  4468.830078   \n",
       "\n",
       "                               Volume  Dividends     Tomorrow  Target  \\\n",
       "Date                                                                    \n",
       "1993-12-14 00:00:00-05:00   275050000        0.0   461.839996       0   \n",
       "1993-12-15 00:00:00-05:00   331770000        0.0   463.339996       1   \n",
       "1993-12-16 00:00:00-05:00   284620000        0.0   466.380005       1   \n",
       "1993-12-17 00:00:00-05:00   363750000        0.0   465.850006       0   \n",
       "1993-12-20 00:00:00-05:00   255900000        0.0   465.299988       0   \n",
       "...                               ...        ...          ...     ...   \n",
       "2023-08-04 00:00:00-04:00  4143310000        0.0  4518.439941       1   \n",
       "2023-08-07 00:00:00-04:00  3493920000        0.0  4499.379883       0   \n",
       "2023-08-08 00:00:00-04:00  3884910000        0.0  4467.709961       0   \n",
       "2023-08-09 00:00:00-04:00  3803100000        0.0  4468.830078       1   \n",
       "2023-08-10 00:00:00-04:00  4504370000        0.0          NaN       0   \n",
       "\n",
       "                           Close_Ratio 2  Trend_2  Close_Ratio 5  Trend_5  \\\n",
       "Date                                                                        \n",
       "1993-12-14 00:00:00-05:00       0.997157      1.0       0.996617      1.0   \n",
       "1993-12-15 00:00:00-05:00       0.998681      0.0       0.995899      1.0   \n",
       "1993-12-16 00:00:00-05:00       1.001621      1.0       0.999495      2.0   \n",
       "1993-12-17 00:00:00-05:00       1.003270      2.0       1.004991      3.0   \n",
       "1993-12-20 00:00:00-05:00       0.999431      1.0       1.003784      2.0   \n",
       "...                                  ...      ...            ...      ...   \n",
       "2023-08-04 00:00:00-04:00       0.997343      0.0       0.988135      1.0   \n",
       "2023-08-07 00:00:00-04:00       1.004492      1.0       1.000165      1.0   \n",
       "2023-08-08 00:00:00-04:00       0.997886      1.0       0.999368      1.0   \n",
       "2023-08-09 00:00:00-04:00       0.996468      0.0       0.994351      1.0   \n",
       "2023-08-10 00:00:00-04:00       1.000125      1.0       0.996066      2.0   \n",
       "\n",
       "                           Close_Ratio 60  Trend_60  Close_Ratio 250  \\\n",
       "Date                                                                   \n",
       "1993-12-14 00:00:00-05:00        1.000283      32.0         1.028047   \n",
       "1993-12-15 00:00:00-05:00        0.997329      32.0         1.025151   \n",
       "1993-12-16 00:00:00-05:00        1.000311      32.0         1.028274   \n",
       "1993-12-17 00:00:00-05:00        1.006561      32.0         1.034781   \n",
       "1993-12-20 00:00:00-05:00        1.005120      32.0         1.033359   \n",
       "...                                   ...       ...              ...   \n",
       "2023-08-04 00:00:00-04:00        1.026023      34.0         1.102385   \n",
       "2023-08-07 00:00:00-04:00        1.033779      34.0         1.111919   \n",
       "2023-08-08 00:00:00-04:00        1.027972      34.0         1.106818   \n",
       "2023-08-09 00:00:00-04:00        1.019403      34.0         1.098749   \n",
       "2023-08-10 00:00:00-04:00        1.018371      34.0         1.098742   \n",
       "\n",
       "                           Trend_250  Close_Ratio 1000  Trend_1000  \n",
       "Date                                                                \n",
       "1993-12-14 00:00:00-05:00      127.0          1.176082       512.0  \n",
       "1993-12-15 00:00:00-05:00      126.0          1.172676       512.0  \n",
       "1993-12-16 00:00:00-05:00      127.0          1.176163       513.0  \n",
       "1993-12-17 00:00:00-05:00      128.0          1.183537       514.0  \n",
       "1993-12-20 00:00:00-05:00      128.0          1.181856       513.0  \n",
       "...                              ...               ...         ...  \n",
       "2023-08-04 00:00:00-04:00      120.0          1.169678       535.0  \n",
       "2023-08-07 00:00:00-04:00      121.0          1.179718       535.0  \n",
       "2023-08-08 00:00:00-04:00      121.0          1.174248       534.0  \n",
       "2023-08-09 00:00:00-04:00      120.0          1.165513       533.0  \n",
       "2023-08-10 00:00:00-04:00      121.0          1.165328       534.0  \n",
       "\n",
       "[7467 rows x 18 columns]"
      ]
     },
     "execution_count": 23,
     "metadata": {},
     "output_type": "execute_result"
    }
   ],
   "source": [
    "sp500"
   ]
  },
  {
   "cell_type": "code",
   "execution_count": 24,
   "id": "241791c7",
   "metadata": {},
   "outputs": [],
   "source": [
    "predictions = backtest(sp500, model, new_predictors)"
   ]
  },
  {
   "cell_type": "code",
   "execution_count": 25,
   "id": "a61fd2d5",
   "metadata": {},
   "outputs": [
    {
     "data": {
      "text/plain": [
       "1    3699\n",
       "0    1268\n",
       "Name: Predictions, dtype: int64"
      ]
     },
     "execution_count": 25,
     "metadata": {},
     "output_type": "execute_result"
    }
   ],
   "source": [
    "predictions[\"Predictions\"].value_counts()"
   ]
  },
  {
   "cell_type": "code",
   "execution_count": 26,
   "id": "d4599399",
   "metadata": {},
   "outputs": [
    {
     "data": {
      "text/plain": [
       "0.551500405515004"
      ]
     },
     "execution_count": 26,
     "metadata": {},
     "output_type": "execute_result"
    }
   ],
   "source": [
    "precision_score (predictions[\"Target\"], predictions[\"Predictions\"])"
   ]
  },
  {
   "cell_type": "code",
   "execution_count": 27,
   "id": "08c46a40",
   "metadata": {},
   "outputs": [
    {
     "data": {
      "text/plain": [
       "1    0.543789\n",
       "0    0.456211\n",
       "Name: Target, dtype: float64"
      ]
     },
     "execution_count": 27,
     "metadata": {},
     "output_type": "execute_result"
    }
   ],
   "source": [
    "predictions[\"Target\"].value_counts()/ predictions.shape[0]"
   ]
  },
  {
   "cell_type": "code",
   "execution_count": 28,
   "id": "824074a9",
   "metadata": {},
   "outputs": [
    {
     "data": {
      "text/html": [
       "<div>\n",
       "<style scoped>\n",
       "    .dataframe tbody tr th:only-of-type {\n",
       "        vertical-align: middle;\n",
       "    }\n",
       "\n",
       "    .dataframe tbody tr th {\n",
       "        vertical-align: top;\n",
       "    }\n",
       "\n",
       "    .dataframe thead th {\n",
       "        text-align: right;\n",
       "    }\n",
       "</style>\n",
       "<table border=\"1\" class=\"dataframe\">\n",
       "  <thead>\n",
       "    <tr style=\"text-align: right;\">\n",
       "      <th></th>\n",
       "      <th>Target</th>\n",
       "      <th>Predictions</th>\n",
       "    </tr>\n",
       "    <tr>\n",
       "      <th>Date</th>\n",
       "      <th></th>\n",
       "      <th></th>\n",
       "    </tr>\n",
       "  </thead>\n",
       "  <tbody>\n",
       "    <tr>\n",
       "      <th>2003-11-14 00:00:00-05:00</th>\n",
       "      <td>0</td>\n",
       "      <td>1</td>\n",
       "    </tr>\n",
       "    <tr>\n",
       "      <th>2003-11-17 00:00:00-05:00</th>\n",
       "      <td>0</td>\n",
       "      <td>1</td>\n",
       "    </tr>\n",
       "    <tr>\n",
       "      <th>2003-11-18 00:00:00-05:00</th>\n",
       "      <td>1</td>\n",
       "      <td>1</td>\n",
       "    </tr>\n",
       "    <tr>\n",
       "      <th>2003-11-19 00:00:00-05:00</th>\n",
       "      <td>0</td>\n",
       "      <td>1</td>\n",
       "    </tr>\n",
       "    <tr>\n",
       "      <th>2003-11-20 00:00:00-05:00</th>\n",
       "      <td>1</td>\n",
       "      <td>1</td>\n",
       "    </tr>\n",
       "    <tr>\n",
       "      <th>...</th>\n",
       "      <td>...</td>\n",
       "      <td>...</td>\n",
       "    </tr>\n",
       "    <tr>\n",
       "      <th>2023-08-04 00:00:00-04:00</th>\n",
       "      <td>1</td>\n",
       "      <td>1</td>\n",
       "    </tr>\n",
       "    <tr>\n",
       "      <th>2023-08-07 00:00:00-04:00</th>\n",
       "      <td>0</td>\n",
       "      <td>0</td>\n",
       "    </tr>\n",
       "    <tr>\n",
       "      <th>2023-08-08 00:00:00-04:00</th>\n",
       "      <td>0</td>\n",
       "      <td>1</td>\n",
       "    </tr>\n",
       "    <tr>\n",
       "      <th>2023-08-09 00:00:00-04:00</th>\n",
       "      <td>1</td>\n",
       "      <td>1</td>\n",
       "    </tr>\n",
       "    <tr>\n",
       "      <th>2023-08-10 00:00:00-04:00</th>\n",
       "      <td>0</td>\n",
       "      <td>1</td>\n",
       "    </tr>\n",
       "  </tbody>\n",
       "</table>\n",
       "<p>4967 rows × 2 columns</p>\n",
       "</div>"
      ],
      "text/plain": [
       "                           Target  Predictions\n",
       "Date                                          \n",
       "2003-11-14 00:00:00-05:00       0            1\n",
       "2003-11-17 00:00:00-05:00       0            1\n",
       "2003-11-18 00:00:00-05:00       1            1\n",
       "2003-11-19 00:00:00-05:00       0            1\n",
       "2003-11-20 00:00:00-05:00       1            1\n",
       "...                           ...          ...\n",
       "2023-08-04 00:00:00-04:00       1            1\n",
       "2023-08-07 00:00:00-04:00       0            0\n",
       "2023-08-08 00:00:00-04:00       0            1\n",
       "2023-08-09 00:00:00-04:00       1            1\n",
       "2023-08-10 00:00:00-04:00       0            1\n",
       "\n",
       "[4967 rows x 2 columns]"
      ]
     },
     "execution_count": 28,
     "metadata": {},
     "output_type": "execute_result"
    }
   ],
   "source": [
    "predictions"
   ]
  }
 ],
 "metadata": {
  "kernelspec": {
   "display_name": "Python 3 (ipykernel)",
   "language": "python",
   "name": "python3"
  },
  "language_info": {
   "codemirror_mode": {
    "name": "ipython",
    "version": 3
   },
   "file_extension": ".py",
   "mimetype": "text/x-python",
   "name": "python",
   "nbconvert_exporter": "python",
   "pygments_lexer": "ipython3",
   "version": "3.11.4"
  }
 },
 "nbformat": 4,
 "nbformat_minor": 5
}
